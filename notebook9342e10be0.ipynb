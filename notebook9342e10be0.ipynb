{
 "cells": [
  {
   "cell_type": "code",
   "execution_count": 1,
   "id": "eb2f51b1",
   "metadata": {
    "_cell_guid": "b1076dfc-b9ad-4769-8c92-a6c4dae69d19",
    "_uuid": "8f2839f25d086af736a60e9eeb907d3b93b6e0e5",
    "execution": {
     "iopub.execute_input": "2023-04-18T00:23:14.962713Z",
     "iopub.status.busy": "2023-04-18T00:23:14.961679Z",
     "iopub.status.idle": "2023-04-18T00:23:14.981731Z",
     "shell.execute_reply": "2023-04-18T00:23:14.980385Z"
    },
    "papermill": {
     "duration": 0.029141,
     "end_time": "2023-04-18T00:23:14.984640",
     "exception": false,
     "start_time": "2023-04-18T00:23:14.955499",
     "status": "completed"
    },
    "tags": []
   },
   "outputs": [
    {
     "name": "stdout",
     "output_type": "stream",
     "text": [
      "/kaggle/input/cardiogoodfitness/CardioGoodFitness.csv\n"
     ]
    }
   ],
   "source": [
    "# This Python 3 environment comes with many helpful analytics libraries installed\n",
    "# It is defined by the kaggle/python Docker image: https://github.com/kaggle/docker-python\n",
    "# For example, here's several helpful packages to load\n",
    "\n",
    "import numpy as np # linear algebra\n",
    "import pandas as pd # data processing, CSV file I/O (e.g. pd.read_csv)\n",
    "\n",
    "# Input data files are available in the read-only \"../input/\" directory\n",
    "# For example, running this (by clicking run or pressing Shift+Enter) will list all files under the input directory\n",
    "\n",
    "import os\n",
    "for dirname, _, filenames in os.walk('/kaggle/input'):\n",
    "    for filename in filenames:\n",
    "        print(os.path.join(dirname, filename))\n",
    "\n",
    "# You can write up to 20GB to the current directory (/kaggle/working/) that gets preserved as output when you create a version using \"Save & Run All\" \n",
    "# You can also write temporary files to /kaggle/temp/, but they won't be saved outside of the current session"
   ]
  },
  {
   "cell_type": "code",
   "execution_count": 2,
   "id": "a250013e",
   "metadata": {
    "execution": {
     "iopub.execute_input": "2023-04-18T00:23:14.992815Z",
     "iopub.status.busy": "2023-04-18T00:23:14.992273Z",
     "iopub.status.idle": "2023-04-18T00:23:15.007956Z",
     "shell.execute_reply": "2023-04-18T00:23:15.006861Z"
    },
    "papermill": {
     "duration": 0.022937,
     "end_time": "2023-04-18T00:23:15.010735",
     "exception": false,
     "start_time": "2023-04-18T00:23:14.987798",
     "status": "completed"
    },
    "tags": []
   },
   "outputs": [],
   "source": [
    "cardio = pd.read_csv('/kaggle/input/cardiogoodfitness/CardioGoodFitness.csv')"
   ]
  },
  {
   "cell_type": "code",
   "execution_count": 3,
   "id": "7c74eb59",
   "metadata": {
    "execution": {
     "iopub.execute_input": "2023-04-18T00:23:15.018776Z",
     "iopub.status.busy": "2023-04-18T00:23:15.018026Z",
     "iopub.status.idle": "2023-04-18T00:23:15.046987Z",
     "shell.execute_reply": "2023-04-18T00:23:15.045773Z"
    },
    "papermill": {
     "duration": 0.035455,
     "end_time": "2023-04-18T00:23:15.049481",
     "exception": false,
     "start_time": "2023-04-18T00:23:15.014026",
     "status": "completed"
    },
    "tags": []
   },
   "outputs": [
    {
     "data": {
      "text/html": [
       "<div>\n",
       "<style scoped>\n",
       "    .dataframe tbody tr th:only-of-type {\n",
       "        vertical-align: middle;\n",
       "    }\n",
       "\n",
       "    .dataframe tbody tr th {\n",
       "        vertical-align: top;\n",
       "    }\n",
       "\n",
       "    .dataframe thead th {\n",
       "        text-align: right;\n",
       "    }\n",
       "</style>\n",
       "<table border=\"1\" class=\"dataframe\">\n",
       "  <thead>\n",
       "    <tr style=\"text-align: right;\">\n",
       "      <th></th>\n",
       "      <th>Product</th>\n",
       "      <th>Age</th>\n",
       "      <th>Gender</th>\n",
       "      <th>Education</th>\n",
       "      <th>MaritalStatus</th>\n",
       "      <th>Usage</th>\n",
       "      <th>Fitness</th>\n",
       "      <th>Income</th>\n",
       "      <th>Miles</th>\n",
       "    </tr>\n",
       "  </thead>\n",
       "  <tbody>\n",
       "    <tr>\n",
       "      <th>0</th>\n",
       "      <td>TM195</td>\n",
       "      <td>18</td>\n",
       "      <td>Male</td>\n",
       "      <td>14</td>\n",
       "      <td>Single</td>\n",
       "      <td>3</td>\n",
       "      <td>4</td>\n",
       "      <td>29562</td>\n",
       "      <td>112</td>\n",
       "    </tr>\n",
       "    <tr>\n",
       "      <th>1</th>\n",
       "      <td>TM195</td>\n",
       "      <td>19</td>\n",
       "      <td>Male</td>\n",
       "      <td>15</td>\n",
       "      <td>Single</td>\n",
       "      <td>2</td>\n",
       "      <td>3</td>\n",
       "      <td>31836</td>\n",
       "      <td>75</td>\n",
       "    </tr>\n",
       "    <tr>\n",
       "      <th>2</th>\n",
       "      <td>TM195</td>\n",
       "      <td>19</td>\n",
       "      <td>Female</td>\n",
       "      <td>14</td>\n",
       "      <td>Partnered</td>\n",
       "      <td>4</td>\n",
       "      <td>3</td>\n",
       "      <td>30699</td>\n",
       "      <td>66</td>\n",
       "    </tr>\n",
       "    <tr>\n",
       "      <th>3</th>\n",
       "      <td>TM195</td>\n",
       "      <td>19</td>\n",
       "      <td>Male</td>\n",
       "      <td>12</td>\n",
       "      <td>Single</td>\n",
       "      <td>3</td>\n",
       "      <td>3</td>\n",
       "      <td>32973</td>\n",
       "      <td>85</td>\n",
       "    </tr>\n",
       "    <tr>\n",
       "      <th>4</th>\n",
       "      <td>TM195</td>\n",
       "      <td>20</td>\n",
       "      <td>Male</td>\n",
       "      <td>13</td>\n",
       "      <td>Partnered</td>\n",
       "      <td>4</td>\n",
       "      <td>2</td>\n",
       "      <td>35247</td>\n",
       "      <td>47</td>\n",
       "    </tr>\n",
       "    <tr>\n",
       "      <th>5</th>\n",
       "      <td>TM195</td>\n",
       "      <td>20</td>\n",
       "      <td>Female</td>\n",
       "      <td>14</td>\n",
       "      <td>Partnered</td>\n",
       "      <td>3</td>\n",
       "      <td>3</td>\n",
       "      <td>32973</td>\n",
       "      <td>66</td>\n",
       "    </tr>\n",
       "    <tr>\n",
       "      <th>6</th>\n",
       "      <td>TM195</td>\n",
       "      <td>21</td>\n",
       "      <td>Female</td>\n",
       "      <td>14</td>\n",
       "      <td>Partnered</td>\n",
       "      <td>3</td>\n",
       "      <td>3</td>\n",
       "      <td>35247</td>\n",
       "      <td>75</td>\n",
       "    </tr>\n",
       "    <tr>\n",
       "      <th>7</th>\n",
       "      <td>TM195</td>\n",
       "      <td>21</td>\n",
       "      <td>Male</td>\n",
       "      <td>13</td>\n",
       "      <td>Single</td>\n",
       "      <td>3</td>\n",
       "      <td>3</td>\n",
       "      <td>32973</td>\n",
       "      <td>85</td>\n",
       "    </tr>\n",
       "    <tr>\n",
       "      <th>8</th>\n",
       "      <td>TM195</td>\n",
       "      <td>21</td>\n",
       "      <td>Male</td>\n",
       "      <td>15</td>\n",
       "      <td>Single</td>\n",
       "      <td>5</td>\n",
       "      <td>4</td>\n",
       "      <td>35247</td>\n",
       "      <td>141</td>\n",
       "    </tr>\n",
       "    <tr>\n",
       "      <th>9</th>\n",
       "      <td>TM195</td>\n",
       "      <td>21</td>\n",
       "      <td>Female</td>\n",
       "      <td>15</td>\n",
       "      <td>Partnered</td>\n",
       "      <td>2</td>\n",
       "      <td>3</td>\n",
       "      <td>37521</td>\n",
       "      <td>85</td>\n",
       "    </tr>\n",
       "  </tbody>\n",
       "</table>\n",
       "</div>"
      ],
      "text/plain": [
       "  Product  Age  Gender  Education MaritalStatus  Usage  Fitness  Income  Miles\n",
       "0   TM195   18    Male         14        Single      3        4   29562    112\n",
       "1   TM195   19    Male         15        Single      2        3   31836     75\n",
       "2   TM195   19  Female         14     Partnered      4        3   30699     66\n",
       "3   TM195   19    Male         12        Single      3        3   32973     85\n",
       "4   TM195   20    Male         13     Partnered      4        2   35247     47\n",
       "5   TM195   20  Female         14     Partnered      3        3   32973     66\n",
       "6   TM195   21  Female         14     Partnered      3        3   35247     75\n",
       "7   TM195   21    Male         13        Single      3        3   32973     85\n",
       "8   TM195   21    Male         15        Single      5        4   35247    141\n",
       "9   TM195   21  Female         15     Partnered      2        3   37521     85"
      ]
     },
     "execution_count": 3,
     "metadata": {},
     "output_type": "execute_result"
    }
   ],
   "source": [
    "# The data from the first 10 columns show that the data is consistent\n",
    "cardio.head(10)"
   ]
  },
  {
   "cell_type": "code",
   "execution_count": 4,
   "id": "3267dff9",
   "metadata": {
    "execution": {
     "iopub.execute_input": "2023-04-18T00:23:15.057754Z",
     "iopub.status.busy": "2023-04-18T00:23:15.057318Z",
     "iopub.status.idle": "2023-04-18T00:23:15.081148Z",
     "shell.execute_reply": "2023-04-18T00:23:15.080006Z"
    },
    "papermill": {
     "duration": 0.030591,
     "end_time": "2023-04-18T00:23:15.083416",
     "exception": false,
     "start_time": "2023-04-18T00:23:15.052825",
     "status": "completed"
    },
    "tags": []
   },
   "outputs": [
    {
     "name": "stdout",
     "output_type": "stream",
     "text": [
      "Total TM195 Users: 80\n",
      "Total TM498 Users: 60\n",
      "Total TM798 Users: 40\n"
     ]
    }
   ],
   "source": [
    "TM195 = 0\n",
    "TM498 = 0\n",
    "TM798 = 0\n",
    "for index, row in cardio.iterrows():\n",
    "    if row['Product'] == \"TM195\":\n",
    "        TM195 = TM195 + 1\n",
    "    elif row['Product'] == \"TM498\":\n",
    "        TM498 = TM498 + 1\n",
    "    elif row['Product'] == \"TM798\":\n",
    "        TM798 = TM798 + 1\n",
    "\n",
    "print(\"Total TM195 Users:\",TM195)\n",
    "print(\"Total TM498 Users:\", TM498)\n",
    "print(\"Total TM798 Users:\",TM798)"
   ]
  },
  {
   "cell_type": "code",
   "execution_count": 5,
   "id": "1f7d8634",
   "metadata": {
    "execution": {
     "iopub.execute_input": "2023-04-18T00:23:15.092559Z",
     "iopub.status.busy": "2023-04-18T00:23:15.091451Z",
     "iopub.status.idle": "2023-04-18T00:23:15.096621Z",
     "shell.execute_reply": "2023-04-18T00:23:15.095264Z"
    },
    "papermill": {
     "duration": 0.012236,
     "end_time": "2023-04-18T00:23:15.099035",
     "exception": false,
     "start_time": "2023-04-18T00:23:15.086799",
     "status": "completed"
    },
    "tags": []
   },
   "outputs": [],
   "source": [
    "import matplotlib.pyplot as plt"
   ]
  },
  {
   "cell_type": "code",
   "execution_count": 6,
   "id": "dd06162f",
   "metadata": {
    "execution": {
     "iopub.execute_input": "2023-04-18T00:23:15.107200Z",
     "iopub.status.busy": "2023-04-18T00:23:15.106847Z",
     "iopub.status.idle": "2023-04-18T00:23:15.112877Z",
     "shell.execute_reply": "2023-04-18T00:23:15.111701Z"
    },
    "papermill": {
     "duration": 0.013023,
     "end_time": "2023-04-18T00:23:15.115336",
     "exception": false,
     "start_time": "2023-04-18T00:23:15.102313",
     "status": "completed"
    },
    "tags": []
   },
   "outputs": [],
   "source": [
    "number_of_users = [TM195,TM498,TM798]\n",
    "model_name = [\"TM195\",\"TM498\",\"TM798\"]"
   ]
  },
  {
   "cell_type": "code",
   "execution_count": 7,
   "id": "de43a340",
   "metadata": {
    "execution": {
     "iopub.execute_input": "2023-04-18T00:23:15.123680Z",
     "iopub.status.busy": "2023-04-18T00:23:15.123283Z",
     "iopub.status.idle": "2023-04-18T00:23:15.352387Z",
     "shell.execute_reply": "2023-04-18T00:23:15.351257Z"
    },
    "papermill": {
     "duration": 0.236578,
     "end_time": "2023-04-18T00:23:15.355251",
     "exception": false,
     "start_time": "2023-04-18T00:23:15.118673",
     "status": "completed"
    },
    "tags": []
   },
   "outputs": [
    {
     "data": {
      "image/png": "[encoded data removed]",
      "text/plain": [
       "<Figure size 640x480 with 1 Axes>"
      ]
     },
     "metadata": {},
     "output_type": "display_data"
    }
   ],
   "source": [
    "plt.bar(model_name, number_of_users,color='orange')\n",
    "plt.xlabel(\"Model Name\",fontweight=\"bold\")\n",
    "plt.ylabel(\"Number of Users\",fontweight=\"bold\")\n",
    "plt.title('Numbers of Users per Model',fontweight=\"bold\")\n",
    "plt.show()"
   ]
  },
  {
   "cell_type": "code",
   "execution_count": null,
   "id": "62426aef",
   "metadata": {
    "papermill": {
     "duration": 0.003277,
     "end_time": "2023-04-18T00:23:15.362276",
     "exception": false,
     "start_time": "2023-04-18T00:23:15.358999",
     "status": "completed"
    },
    "tags": []
   },
   "outputs": [],
   "source": []
  }
 ],
 "metadata": {
  "kernelspec": {
   "display_name": "Python 3",
   "language": "python",
   "name": "python3"
  },
  "language_info": {
   "codemirror_mode": {
    "name": "ipython",
    "version": 3
   },
   "file_extension": ".py",
   "mimetype": "text/x-python",
   "name": "python",
   "nbconvert_exporter": "python",
   "pygments_lexer": "ipython3",
   "version": "3.7.12"
  },
  "papermill": {
   "default_parameters": {},
   "duration": 10.905079,
   "end_time": "2023-04-18T00:23:15.986416",
   "environment_variables": {},
   "exception": null,
   "input_path": "__notebook__.ipynb",
   "output_path": "__notebook__.ipynb",
   "parameters": {},
   "start_time": "2023-04-18T00:23:05.081337",
   "version": "2.4.0"
  }
 },
 "nbformat": 4,
 "nbformat_minor": 5
}
