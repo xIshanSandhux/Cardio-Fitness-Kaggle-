{
 "cells": [
  {
   "cell_type": "code",
   "execution_count": 1,
   "id": "f1ff0ff2",
   "metadata": {
    "_cell_guid": "b1076dfc-b9ad-4769-8c92-a6c4dae69d19",
    "_uuid": "8f2839f25d086af736a60e9eeb907d3b93b6e0e5",
    "execution": {
     "iopub.execute_input": "2023-04-19T17:23:35.160508Z",
     "iopub.status.busy": "2023-04-19T17:23:35.159784Z",
     "iopub.status.idle": "2023-04-19T17:23:36.260127Z",
     "shell.execute_reply": "2023-04-19T17:23:36.259187Z"
    },
    "papermill": {
     "duration": 1.113206,
     "end_time": "2023-04-19T17:23:36.262701",
     "exception": false,
     "start_time": "2023-04-19T17:23:35.149495",
     "status": "completed"
    },
    "tags": []
   },
   "outputs": [
    {
     "name": "stdout",
     "output_type": "stream",
     "text": [
      "/kaggle/input/cardiogoodfitness/CardioGoodFitness.csv\n"
     ]
    }
   ],
   "source": [
    "# This Python 3 environment comes with many helpful analytics libraries installed\n",
    "# It is defined by the kaggle/python Docker image: https://github.com/kaggle/docker-python\n",
    "# For example, here's several helpful packages to load\n",
    "\n",
    "import numpy as np # linear algebra\n",
    "import pandas as pd\n",
    "%matplotlib inline\n",
    "import seaborn as sns\n",
    "# data processing, CSV file I/O (e.g. pd.read_csv)\n",
    "\n",
    "# Input data files are available in the read-only \"../input/\" directory\n",
    "# For example, running this (by clicking run or pressing Shift+Enter) will list all files under the input directory\n",
    "\n",
    "import os\n",
    "for dirname, _, filenames in os.walk('/kaggle/input'):\n",
    "    for filename in filenames:\n",
    "        print(os.path.join(dirname, filename))\n",
    "\n",
    "# You can write up to 20GB to the current directory (/kaggle/working/) that gets preserved as output when you create a version using \"Save & Run All\" \n",
    "# You can also write temporary files to /kaggle/temp/, but they won't be saved outside of the current session"
   ]
  },
  {
   "cell_type": "code",
   "execution_count": 2,
   "id": "01499091",
   "metadata": {
    "execution": {
     "iopub.execute_input": "2023-04-19T17:23:36.274329Z",
     "iopub.status.busy": "2023-04-19T17:23:36.273531Z",
     "iopub.status.idle": "2023-04-19T17:23:36.290803Z",
     "shell.execute_reply": "2023-04-19T17:23:36.289531Z"
    },
    "papermill": {
     "duration": 0.026032,
     "end_time": "2023-04-19T17:23:36.293541",
     "exception": false,
     "start_time": "2023-04-19T17:23:36.267509",
     "status": "completed"
    },
    "tags": []
   },
   "outputs": [],
   "source": [
    "cardio = pd.read_csv('/kaggle/input/cardiogoodfitness/CardioGoodFitness.csv')"
   ]
  },
  {
   "cell_type": "code",
   "execution_count": 3,
   "id": "dce8e605",
   "metadata": {
    "execution": {
     "iopub.execute_input": "2023-04-19T17:23:36.304902Z",
     "iopub.status.busy": "2023-04-19T17:23:36.304113Z",
     "iopub.status.idle": "2023-04-19T17:23:36.332208Z",
     "shell.execute_reply": "2023-04-19T17:23:36.331051Z"
    },
    "papermill": {
     "duration": 0.036794,
     "end_time": "2023-04-19T17:23:36.335078",
     "exception": false,
     "start_time": "2023-04-19T17:23:36.298284",
     "status": "completed"
    },
    "tags": []
   },
   "outputs": [
    {
     "data": {
      "text/html": [
       "<div>\n",
       "<style scoped>\n",
       "    .dataframe tbody tr th:only-of-type {\n",
       "        vertical-align: middle;\n",
       "    }\n",
       "\n",
       "    .dataframe tbody tr th {\n",
       "        vertical-align: top;\n",
       "    }\n",
       "\n",
       "    .dataframe thead th {\n",
       "        text-align: right;\n",
       "    }\n",
       "</style>\n",
       "<table border=\"1\" class=\"dataframe\">\n",
       "  <thead>\n",
       "    <tr style=\"text-align: right;\">\n",
       "      <th></th>\n",
       "      <th>Product</th>\n",
       "      <th>Age</th>\n",
       "      <th>Gender</th>\n",
       "      <th>Education</th>\n",
       "      <th>MaritalStatus</th>\n",
       "      <th>Usage</th>\n",
       "      <th>Fitness</th>\n",
       "      <th>Income</th>\n",
       "      <th>Miles</th>\n",
       "    </tr>\n",
       "  </thead>\n",
       "  <tbody>\n",
       "    <tr>\n",
       "      <th>0</th>\n",
       "      <td>TM195</td>\n",
       "      <td>18</td>\n",
       "      <td>Male</td>\n",
       "      <td>14</td>\n",
       "      <td>Single</td>\n",
       "      <td>3</td>\n",
       "      <td>4</td>\n",
       "      <td>29562</td>\n",
       "      <td>112</td>\n",
       "    </tr>\n",
       "    <tr>\n",
       "      <th>1</th>\n",
       "      <td>TM195</td>\n",
       "      <td>19</td>\n",
       "      <td>Male</td>\n",
       "      <td>15</td>\n",
       "      <td>Single</td>\n",
       "      <td>2</td>\n",
       "      <td>3</td>\n",
       "      <td>31836</td>\n",
       "      <td>75</td>\n",
       "    </tr>\n",
       "    <tr>\n",
       "      <th>2</th>\n",
       "      <td>TM195</td>\n",
       "      <td>19</td>\n",
       "      <td>Female</td>\n",
       "      <td>14</td>\n",
       "      <td>Partnered</td>\n",
       "      <td>4</td>\n",
       "      <td>3</td>\n",
       "      <td>30699</td>\n",
       "      <td>66</td>\n",
       "    </tr>\n",
       "    <tr>\n",
       "      <th>3</th>\n",
       "      <td>TM195</td>\n",
       "      <td>19</td>\n",
       "      <td>Male</td>\n",
       "      <td>12</td>\n",
       "      <td>Single</td>\n",
       "      <td>3</td>\n",
       "      <td>3</td>\n",
       "      <td>32973</td>\n",
       "      <td>85</td>\n",
       "    </tr>\n",
       "    <tr>\n",
       "      <th>4</th>\n",
       "      <td>TM195</td>\n",
       "      <td>20</td>\n",
       "      <td>Male</td>\n",
       "      <td>13</td>\n",
       "      <td>Partnered</td>\n",
       "      <td>4</td>\n",
       "      <td>2</td>\n",
       "      <td>35247</td>\n",
       "      <td>47</td>\n",
       "    </tr>\n",
       "    <tr>\n",
       "      <th>5</th>\n",
       "      <td>TM195</td>\n",
       "      <td>20</td>\n",
       "      <td>Female</td>\n",
       "      <td>14</td>\n",
       "      <td>Partnered</td>\n",
       "      <td>3</td>\n",
       "      <td>3</td>\n",
       "      <td>32973</td>\n",
       "      <td>66</td>\n",
       "    </tr>\n",
       "    <tr>\n",
       "      <th>6</th>\n",
       "      <td>TM195</td>\n",
       "      <td>21</td>\n",
       "      <td>Female</td>\n",
       "      <td>14</td>\n",
       "      <td>Partnered</td>\n",
       "      <td>3</td>\n",
       "      <td>3</td>\n",
       "      <td>35247</td>\n",
       "      <td>75</td>\n",
       "    </tr>\n",
       "    <tr>\n",
       "      <th>7</th>\n",
       "      <td>TM195</td>\n",
       "      <td>21</td>\n",
       "      <td>Male</td>\n",
       "      <td>13</td>\n",
       "      <td>Single</td>\n",
       "      <td>3</td>\n",
       "      <td>3</td>\n",
       "      <td>32973</td>\n",
       "      <td>85</td>\n",
       "    </tr>\n",
       "    <tr>\n",
       "      <th>8</th>\n",
       "      <td>TM195</td>\n",
       "      <td>21</td>\n",
       "      <td>Male</td>\n",
       "      <td>15</td>\n",
       "      <td>Single</td>\n",
       "      <td>5</td>\n",
       "      <td>4</td>\n",
       "      <td>35247</td>\n",
       "      <td>141</td>\n",
       "    </tr>\n",
       "    <tr>\n",
       "      <th>9</th>\n",
       "      <td>TM195</td>\n",
       "      <td>21</td>\n",
       "      <td>Female</td>\n",
       "      <td>15</td>\n",
       "      <td>Partnered</td>\n",
       "      <td>2</td>\n",
       "      <td>3</td>\n",
       "      <td>37521</td>\n",
       "      <td>85</td>\n",
       "    </tr>\n",
       "  </tbody>\n",
       "</table>\n",
       "</div>"
      ],
      "text/plain": [
       "  Product  Age  Gender  Education MaritalStatus  Usage  Fitness  Income  Miles\n",
       "0   TM195   18    Male         14        Single      3        4   29562    112\n",
       "1   TM195   19    Male         15        Single      2        3   31836     75\n",
       "2   TM195   19  Female         14     Partnered      4        3   30699     66\n",
       "3   TM195   19    Male         12        Single      3        3   32973     85\n",
       "4   TM195   20    Male         13     Partnered      4        2   35247     47\n",
       "5   TM195   20  Female         14     Partnered      3        3   32973     66\n",
       "6   TM195   21  Female         14     Partnered      3        3   35247     75\n",
       "7   TM195   21    Male         13        Single      3        3   32973     85\n",
       "8   TM195   21    Male         15        Single      5        4   35247    141\n",
       "9   TM195   21  Female         15     Partnered      2        3   37521     85"
      ]
     },
     "execution_count": 3,
     "metadata": {},
     "output_type": "execute_result"
    }
   ],
   "source": [
    "# The data from the first 10 columns show that the data is consistent\n",
    "cardio.head(10)"
   ]
  },
  {
   "cell_type": "code",
   "execution_count": 4,
   "id": "4b5d885f",
   "metadata": {
    "execution": {
     "iopub.execute_input": "2023-04-19T17:23:36.351053Z",
     "iopub.status.busy": "2023-04-19T17:23:36.349374Z",
     "iopub.status.idle": "2023-04-19T17:23:36.378882Z",
     "shell.execute_reply": "2023-04-19T17:23:36.377119Z"
    },
    "papermill": {
     "duration": 0.042397,
     "end_time": "2023-04-19T17:23:36.382674",
     "exception": false,
     "start_time": "2023-04-19T17:23:36.340277",
     "status": "completed"
    },
    "tags": []
   },
   "outputs": [
    {
     "name": "stdout",
     "output_type": "stream",
     "text": [
      "Total TM195 Users: 80\n",
      "Total TM498 Users: 60\n",
      "Total TM798 Users: 40\n"
     ]
    }
   ],
   "source": [
    "TM195 = 0\n",
    "TM498 = 0\n",
    "TM798 = 0\n",
    "for index, row in cardio.iterrows():\n",
    "    if row['Product'] == \"TM195\":\n",
    "        TM195 = TM195 + 1\n",
    "    elif row['Product'] == \"TM498\":\n",
    "        TM498 = TM498 + 1\n",
    "    elif row['Product'] == \"TM798\":\n",
    "        TM798 = TM798 + 1\n",
    "\n",
    "print(\"Total TM195 Users:\",TM195)\n",
    "print(\"Total TM498 Users:\", TM498)\n",
    "print(\"Total TM798 Users:\",TM798)"
   ]
  },
  {
   "cell_type": "code",
   "execution_count": 5,
   "id": "788378f6",
   "metadata": {
    "execution": {
     "iopub.execute_input": "2023-04-19T17:23:36.401146Z",
     "iopub.status.busy": "2023-04-19T17:23:36.400730Z",
     "iopub.status.idle": "2023-04-19T17:23:36.406619Z",
     "shell.execute_reply": "2023-04-19T17:23:36.405479Z"
    },
    "papermill": {
     "duration": 0.018469,
     "end_time": "2023-04-19T17:23:36.409542",
     "exception": false,
     "start_time": "2023-04-19T17:23:36.391073",
     "status": "completed"
    },
    "tags": []
   },
   "outputs": [],
   "source": [
    "import matplotlib.pyplot as plt"
   ]
  },
  {
   "cell_type": "code",
   "execution_count": 6,
   "id": "566c9574",
   "metadata": {
    "execution": {
     "iopub.execute_input": "2023-04-19T17:23:36.425643Z",
     "iopub.status.busy": "2023-04-19T17:23:36.424603Z",
     "iopub.status.idle": "2023-04-19T17:23:36.431341Z",
     "shell.execute_reply": "2023-04-19T17:23:36.429445Z"
    },
    "papermill": {
     "duration": 0.018166,
     "end_time": "2023-04-19T17:23:36.435395",
     "exception": false,
     "start_time": "2023-04-19T17:23:36.417229",
     "status": "completed"
    },
    "tags": []
   },
   "outputs": [],
   "source": [
    "number_of_users = [TM195,TM498,TM798]\n",
    "model_name = [\"TM195\",\"TM498\",\"TM798\"]"
   ]
  },
  {
   "cell_type": "code",
   "execution_count": 7,
   "id": "e2260478",
   "metadata": {
    "execution": {
     "iopub.execute_input": "2023-04-19T17:23:36.448615Z",
     "iopub.status.busy": "2023-04-19T17:23:36.447605Z",
     "iopub.status.idle": "2023-04-19T17:23:36.675033Z",
     "shell.execute_reply": "2023-04-19T17:23:36.674173Z"
    },
    "papermill": {
     "duration": 0.236273,
     "end_time": "2023-04-19T17:23:36.677524",
     "exception": false,
     "start_time": "2023-04-19T17:23:36.441251",
     "status": "completed"
    },
    "tags": []
   },
   "outputs": [
    {
     "data": {
      "image/png": "[encoded data removed]",
      "text/plain": [
       "<Figure size 640x480 with 1 Axes>"
      ]
     },
     "metadata": {},
     "output_type": "display_data"
    }
   ],
   "source": [
    "plt.bar(model_name, number_of_users,color='orange')\n",
    "plt.xlabel(\"Model Name\",fontweight=\"bold\")\n",
    "plt.ylabel(\"Number of Users\",fontweight=\"bold\")\n",
    "plt.title('Numbers of Users per Model',fontweight=\"bold\")\n",
    "plt.show()"
   ]
  },
  {
   "cell_type": "code",
   "execution_count": 8,
   "id": "4399e3f5",
   "metadata": {
    "execution": {
     "iopub.execute_input": "2023-04-19T17:23:36.690684Z",
     "iopub.status.busy": "2023-04-19T17:23:36.690062Z",
     "iopub.status.idle": "2023-04-19T17:23:36.709187Z",
     "shell.execute_reply": "2023-04-19T17:23:36.708002Z"
    },
    "papermill": {
     "duration": 0.028208,
     "end_time": "2023-04-19T17:23:36.711614",
     "exception": false,
     "start_time": "2023-04-19T17:23:36.683406",
     "status": "completed"
    },
    "tags": []
   },
   "outputs": [
    {
     "name": "stdout",
     "output_type": "stream",
     "text": [
      "Number of Female's using TM195: 40\n",
      "Number of Male's using TM195: 40\n"
     ]
    }
   ],
   "source": [
    "male_users_TM195 = 0\n",
    "female_users_TM195 = 0\n",
    "\n",
    "for index, row in cardio.iterrows():\n",
    "    if(row['Product']==\"TM195\"):\n",
    "        if(row['Gender']==\"Male\"):\n",
    "            male_users_TM195 = male_users_TM195+1\n",
    "        elif(row['Gender']==\"Female\"):\n",
    "            female_users_TM195 = female_users_TM195+1\n",
    "            \n",
    "print(\"Number of Female's using TM195:\",female_users_TM195)\n",
    "print(\"Number of Male's using TM195:\",male_users_TM195)"
   ]
  },
  {
   "cell_type": "code",
   "execution_count": 9,
   "id": "364b5d0e",
   "metadata": {
    "execution": {
     "iopub.execute_input": "2023-04-19T17:23:36.724904Z",
     "iopub.status.busy": "2023-04-19T17:23:36.723801Z",
     "iopub.status.idle": "2023-04-19T17:23:36.747109Z",
     "shell.execute_reply": "2023-04-19T17:23:36.745725Z"
    },
    "papermill": {
     "duration": 0.032166,
     "end_time": "2023-04-19T17:23:36.749295",
     "exception": false,
     "start_time": "2023-04-19T17:23:36.717129",
     "status": "completed"
    },
    "tags": []
   },
   "outputs": [
    {
     "name": "stdout",
     "output_type": "stream",
     "text": [
      "Number of single male's using TM195: 19\n",
      "Number of partnered male's using TM195: 21\n",
      "Number of single female's using TM195: 13\n",
      "Number of partnered female's using TM195: 27\n"
     ]
    }
   ],
   "source": [
    "single_male = 0\n",
    "partnered_male = 0\n",
    "single_female = 0\n",
    "partnered_female = 0\n",
    "\n",
    "for index, row in cardio.iterrows():\n",
    "    if(row['Product']==\"TM195\"):\n",
    "        if(row['Gender']==\"Male\"):\n",
    "            if(row['MaritalStatus']==\"Single\"):\n",
    "                single_male = single_male+1\n",
    "            elif(row['MaritalStatus']==\"Partnered\"):\n",
    "                partnered_male = partnered_male+1\n",
    "        if(row['Product']==\"TM195\"):\n",
    "            if(row['Gender']==\"Female\"):\n",
    "                if(row['MaritalStatus']==\"Single\"):\n",
    "                    single_female = single_female+1\n",
    "                elif(row['MaritalStatus']==\"Partnered\"):\n",
    "                    partnered_female = partnered_female+1\n",
    "print(\"Number of single male's using TM195:\",single_male)\n",
    "print(\"Number of partnered male's using TM195:\",partnered_male)\n",
    "print(\"Number of single female's using TM195:\",single_female)\n",
    "print(\"Number of partnered female's using TM195:\",partnered_female)"
   ]
  },
  {
   "cell_type": "code",
   "execution_count": 10,
   "id": "812e5540",
   "metadata": {
    "execution": {
     "iopub.execute_input": "2023-04-19T17:23:36.762687Z",
     "iopub.status.busy": "2023-04-19T17:23:36.761349Z",
     "iopub.status.idle": "2023-04-19T17:23:36.781002Z",
     "shell.execute_reply": "2023-04-19T17:23:36.779536Z"
    },
    "papermill": {
     "duration": 0.028763,
     "end_time": "2023-04-19T17:23:36.783563",
     "exception": false,
     "start_time": "2023-04-19T17:23:36.754800",
     "status": "completed"
    },
    "tags": []
   },
   "outputs": [
    {
     "name": "stdout",
     "output_type": "stream",
     "text": [
      "Number of Female's using TM498: 29\n",
      "Number of Male's using TM498: 31\n"
     ]
    }
   ],
   "source": [
    "male_users_TM498 = 0\n",
    "female_users_TM498 = 0\n",
    "\n",
    "for index, row in cardio.iterrows():\n",
    "    if(row['Product']==\"TM498\"):\n",
    "        if(row['Gender']==\"Male\"):\n",
    "            male_users_TM498 = male_users_TM498+1\n",
    "        elif(row['Gender']==\"Female\"):\n",
    "            female_users_TM498 = female_users_TM498+1\n",
    "            \n",
    "print(\"Number of Female's using TM498:\",female_users_TM498)\n",
    "print(\"Number of Male's using TM498:\",male_users_TM498)"
   ]
  },
  {
   "cell_type": "code",
   "execution_count": 11,
   "id": "bcf1036a",
   "metadata": {
    "execution": {
     "iopub.execute_input": "2023-04-19T17:23:36.796669Z",
     "iopub.status.busy": "2023-04-19T17:23:36.796282Z",
     "iopub.status.idle": "2023-04-19T17:23:36.817163Z",
     "shell.execute_reply": "2023-04-19T17:23:36.815775Z"
    },
    "papermill": {
     "duration": 0.030311,
     "end_time": "2023-04-19T17:23:36.819648",
     "exception": false,
     "start_time": "2023-04-19T17:23:36.789337",
     "status": "completed"
    },
    "tags": []
   },
   "outputs": [
    {
     "name": "stdout",
     "output_type": "stream",
     "text": [
      "Number of single male's using TM498: 10\n",
      "Number of partnered male's using TM498: 21\n",
      "Number of single female's using TM498: 14\n",
      "Number of partnered female's using TM498: 15\n"
     ]
    }
   ],
   "source": [
    "single_male498 = 0\n",
    "partnered_male498 = 0\n",
    "single_female498 = 0\n",
    "partnered_female498 = 0\n",
    "\n",
    "for index, row in cardio.iterrows():\n",
    "    if(row['Product']==\"TM498\"):\n",
    "        if(row['Gender']==\"Male\"):\n",
    "            if(row['MaritalStatus']==\"Single\"):\n",
    "                single_male498 = single_male498+1\n",
    "            elif(row['MaritalStatus']==\"Partnered\"):\n",
    "                partnered_male498 = partnered_male498+1\n",
    "        if(row['Product']==\"TM498\"):\n",
    "            if(row['Gender']==\"Female\"):\n",
    "                if(row['MaritalStatus']==\"Single\"):\n",
    "                    single_female498 = single_female498+1\n",
    "                elif(row['MaritalStatus']==\"Partnered\"):\n",
    "                    partnered_female498 = partnered_female498+1\n",
    "print(\"Number of single male's using TM498:\",single_male498)\n",
    "print(\"Number of partnered male's using TM498:\",partnered_male498)\n",
    "print(\"Number of single female's using TM498:\",single_female498)\n",
    "print(\"Number of partnered female's using TM498:\",partnered_female498)"
   ]
  },
  {
   "cell_type": "code",
   "execution_count": 12,
   "id": "73148d32",
   "metadata": {
    "execution": {
     "iopub.execute_input": "2023-04-19T17:23:36.833003Z",
     "iopub.status.busy": "2023-04-19T17:23:36.832580Z",
     "iopub.status.idle": "2023-04-19T17:23:36.850166Z",
     "shell.execute_reply": "2023-04-19T17:23:36.848934Z"
    },
    "papermill": {
     "duration": 0.027792,
     "end_time": "2023-04-19T17:23:36.853138",
     "exception": false,
     "start_time": "2023-04-19T17:23:36.825346",
     "status": "completed"
    },
    "tags": []
   },
   "outputs": [
    {
     "name": "stdout",
     "output_type": "stream",
     "text": [
      "Number of Female's using TM798: 7\n",
      "Number of Male's using TM798: 33\n"
     ]
    }
   ],
   "source": [
    "male_users_TM798 = 0\n",
    "female_users_TM798 = 0\n",
    "\n",
    "for index, row in cardio.iterrows():\n",
    "    if(row['Product']==\"TM798\"):\n",
    "        if(row['Gender']==\"Male\"):\n",
    "            male_users_TM798 = male_users_TM798+1\n",
    "        elif(row['Gender']==\"Female\"):\n",
    "            female_users_TM798 = female_users_TM798+1\n",
    "            \n",
    "print(\"Number of Female's using TM798:\",female_users_TM798)\n",
    "print(\"Number of Male's using TM798:\",male_users_TM798)"
   ]
  },
  {
   "cell_type": "code",
   "execution_count": 13,
   "id": "9e7793d7",
   "metadata": {
    "execution": {
     "iopub.execute_input": "2023-04-19T17:23:36.866626Z",
     "iopub.status.busy": "2023-04-19T17:23:36.865954Z",
     "iopub.status.idle": "2023-04-19T17:23:36.886661Z",
     "shell.execute_reply": "2023-04-19T17:23:36.885359Z"
    },
    "papermill": {
     "duration": 0.030327,
     "end_time": "2023-04-19T17:23:36.889276",
     "exception": false,
     "start_time": "2023-04-19T17:23:36.858949",
     "status": "completed"
    },
    "tags": []
   },
   "outputs": [
    {
     "name": "stdout",
     "output_type": "stream",
     "text": [
      "Number of single male's using TM798: 14\n",
      "Number of partnered male's using TM798: 19\n",
      "Number of single female's using TM798: 3\n",
      "Number of partnered female's using TM798: 4\n"
     ]
    }
   ],
   "source": [
    "single_male798 = 0\n",
    "partnered_male798 = 0\n",
    "single_female798 = 0\n",
    "partnered_female798 = 0\n",
    "\n",
    "for index, row in cardio.iterrows():\n",
    "    if(row['Product']==\"TM798\"):\n",
    "        if(row['Gender']==\"Male\"):\n",
    "            if(row['MaritalStatus']==\"Single\"):\n",
    "                single_male798 = single_male798+1\n",
    "            elif(row['MaritalStatus']==\"Partnered\"):\n",
    "                partnered_male798 = partnered_male798+1\n",
    "        if(row['Product']==\"TM798\"):\n",
    "            if(row['Gender']==\"Female\"):\n",
    "                if(row['MaritalStatus']==\"Single\"):\n",
    "                    single_female798 = single_female798+1\n",
    "                elif(row['MaritalStatus']==\"Partnered\"):\n",
    "                    partnered_female798 = partnered_female798+1\n",
    "print(\"Number of single male's using TM798:\",single_male798)\n",
    "print(\"Number of partnered male's using TM798:\",partnered_male798)\n",
    "print(\"Number of single female's using TM798:\",single_female798)\n",
    "print(\"Number of partnered female's using TM798:\",partnered_female798)"
   ]
  },
  {
   "cell_type": "code",
   "execution_count": 14,
   "id": "3fdc0c72",
   "metadata": {
    "execution": {
     "iopub.execute_input": "2023-04-19T17:23:36.902767Z",
     "iopub.status.busy": "2023-04-19T17:23:36.902328Z",
     "iopub.status.idle": "2023-04-19T17:23:37.175958Z",
     "shell.execute_reply": "2023-04-19T17:23:37.174530Z"
    },
    "papermill": {
     "duration": 0.28353,
     "end_time": "2023-04-19T17:23:37.178637",
     "exception": false,
     "start_time": "2023-04-19T17:23:36.895107",
     "status": "completed"
    },
    "tags": []
   },
   "outputs": [
    {
     "data": {
      "text/plain": [
       "[Text(0.5, 1.0, 'Product purchased by gender')]"
      ]
     },
     "execution_count": 14,
     "metadata": {},
     "output_type": "execute_result"
    },
    {
     "data": {
      "image/png": "[encoded data removed]",
      "text/plain": [
       "<Figure size 640x480 with 1 Axes>"
      ]
     },
     "metadata": {},
     "output_type": "display_data"
    }
   ],
   "source": [
    "sns.countplot(data=cardio, y=\"Product\", hue=\"Gender\").set(title='Product purchased by gender')"
   ]
  },
  {
   "cell_type": "code",
   "execution_count": 15,
   "id": "08a2b464",
   "metadata": {
    "execution": {
     "iopub.execute_input": "2023-04-19T17:23:37.193254Z",
     "iopub.status.busy": "2023-04-19T17:23:37.192856Z",
     "iopub.status.idle": "2023-04-19T17:23:37.453341Z",
     "shell.execute_reply": "2023-04-19T17:23:37.452122Z"
    },
    "papermill": {
     "duration": 0.270916,
     "end_time": "2023-04-19T17:23:37.456218",
     "exception": false,
     "start_time": "2023-04-19T17:23:37.185302",
     "status": "completed"
    },
    "tags": []
   },
   "outputs": [
    {
     "data": {
      "text/plain": [
       "[Text(0.5, 1.0, 'Product purchased by Marital Status')]"
      ]
     },
     "execution_count": 15,
     "metadata": {},
     "output_type": "execute_result"
    },
    {
     "data": {
      "image/png": "[encoded data removed]",
      "text/plain": [
       "<Figure size 640x480 with 1 Axes>"
      ]
     },
     "metadata": {},
     "output_type": "display_data"
    }
   ],
   "source": [
    "sns.countplot(data=cardio, y=\"Product\", hue=\"MaritalStatus\").set(title='Product purchased by Marital Status')"
   ]
  },
  {
   "cell_type": "code",
   "execution_count": null,
   "id": "6dc0c161",
   "metadata": {
    "papermill": {
     "duration": 0.006429,
     "end_time": "2023-04-19T17:23:37.469488",
     "exception": false,
     "start_time": "2023-04-19T17:23:37.463059",
     "status": "completed"
    },
    "tags": []
   },
   "outputs": [],
   "source": []
  }
 ],
 "metadata": {
  "kernelspec": {
   "display_name": "Python 3",
   "language": "python",
   "name": "python3"
  },
  "language_info": {
   "codemirror_mode": {
    "name": "ipython",
    "version": 3
   },
   "file_extension": ".py",
   "mimetype": "text/x-python",
   "name": "python",
   "nbconvert_exporter": "python",
   "pygments_lexer": "ipython3",
   "version": "3.7.12"
  },
  "papermill": {
   "default_parameters": {},
   "duration": 13.02068,
   "end_time": "2023-04-19T17:23:38.198432",
   "environment_variables": {},
   "exception": null,
   "input_path": "__notebook__.ipynb",
   "output_path": "__notebook__.ipynb",
   "parameters": {},
   "start_time": "2023-04-19T17:23:25.177752",
   "version": "2.4.0"
  }
 },
 "nbformat": 4,
 "nbformat_minor": 5
}
